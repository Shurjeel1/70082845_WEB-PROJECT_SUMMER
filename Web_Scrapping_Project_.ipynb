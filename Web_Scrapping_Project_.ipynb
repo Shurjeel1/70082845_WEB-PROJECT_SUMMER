{
  "cells": [
    {
      "cell_type": "markdown",
      "metadata": {
        "id": "view-in-github",
        "colab_type": "text"
      },
      "source": [
        "<a href=\"https://colab.research.google.com/github/Shurjeel1/70082845_WEB-PROJECT_SUMMER/blob/main/Web_Scrapping_Project_.ipynb\" target=\"_parent\"><img src=\"https://colab.research.google.com/assets/colab-badge.svg\" alt=\"Open In Colab\"/></a>"
      ]
    },
    {
      "cell_type": "code",
      "execution_count": null,
      "metadata": {
        "id": "OtNHUNjaW6vK"
      },
      "outputs": [],
      "source": [
        "pip install streamlit"
      ]
    },
    {
      "cell_type": "code",
      "execution_count": null,
      "metadata": {
        "id": "7F3DOXGRjDul"
      },
      "outputs": [],
      "source": [
        "pip install streamlit requests beautifulsoup4"
      ]
    },
    {
      "cell_type": "code",
      "execution_count": null,
      "metadata": {
        "id": "UrZjMMkGqrZn"
      },
      "outputs": [],
      "source": [
        "pip install streamlit-tags\n"
      ]
    },
    {
      "cell_type": "code",
      "execution_count": null,
      "metadata": {
        "id": "KzKl_NlSq10l"
      },
      "outputs": [],
      "source": [
        "pip install requests lxml tldextract\n"
      ]
    },
    {
      "cell_type": "code",
      "execution_count": null,
      "metadata": {
        "id": "izsivqj7rEIn"
      },
      "outputs": [],
      "source": [
        "pip install pandas\n"
      ]
    },
    {
      "cell_type": "code",
      "execution_count": null,
      "metadata": {
        "id": "JS4JOzh5rK-F"
      },
      "outputs": [],
      "source": [
        "pip install plotly\n"
      ]
    },
    {
      "cell_type": "markdown",
      "metadata": {
        "id": "2_GVdcR7bYgY"
      },
      "source": [
        "**Quote Website Scrapping code:**"
      ]
    },
    {
      "cell_type": "code",
      "execution_count": null,
      "metadata": {
        "colab": {
          "base_uri": "https://localhost:8080/"
        },
        "id": "DnMTbiNTjHY_",
        "outputId": "c919344e-0eeb-4a9c-818c-ab682591d4d1"
      },
      "outputs": [
        {
          "output_type": "stream",
          "name": "stdout",
          "text": [
            "Writing app.py\n"
          ]
        }
      ],
      "source": [
        "%%writefile app.py\n",
        "import streamlit as st\n",
        "import requests\n",
        "from bs4 import BeautifulSoup\n",
        "\n",
        "# Function to scrape data from a URL\n",
        "def scrape_data(url):\n",
        "    response = requests.get(url)\n",
        "    soup = BeautifulSoup(response.content, 'html.parser')\n",
        "\n",
        "    quotes = soup.find_all('div', class_='quote')\n",
        "\n",
        "    scraped_data = []\n",
        "\n",
        "    for quote in quotes:\n",
        "        text = quote.find('span', class_='text').text\n",
        "        author = quote.find('small', class_='author').text\n",
        "        scraped_data.append({'Author': author, 'Quote': text})\n",
        "\n",
        "    return scraped_data\n",
        "\n",
        "# Streamlit application code\n",
        "st.title(\"Web Scraping Application\")\n",
        "\n",
        "# User input for the URL to scrape\n",
        "url = st.text_input(\"Enter the URL to scrape:\")\n",
        "\n",
        "# Scrape button\n",
        "if st.button(\"Scrape\"):\n",
        "    # Check if the URL is provided\n",
        "    if url:\n",
        "        # Call the scrape_data function to perform scraping\n",
        "        scraped_data = scrape_data(url)\n",
        "\n",
        "        # Display the scraped data\n",
        "        st.write(\"Scraped Data:\")\n",
        "        for data in scraped_data:\n",
        "            st.write(f\"Author: {data['Author']}\")\n",
        "            st.write(f\"Quote: {data['Quote']}\")\n",
        "            st.write(\"---\")\n",
        "    else:\n",
        "        st.write(\"Please enter a URL to scrape.\")\n"
      ]
    },
    {
      "cell_type": "code",
      "execution_count": null,
      "metadata": {
        "id": "w8wUtlH_jg1Y"
      },
      "outputs": [],
      "source": [
        "!npm install localtunnel"
      ]
    },
    {
      "cell_type": "code",
      "execution_count": null,
      "metadata": {
        "id": "jG22Oz4alA18"
      },
      "outputs": [],
      "source": [
        "!streamlit run app.py &>/content/logs.txt &"
      ]
    },
    {
      "cell_type": "code",
      "execution_count": null,
      "metadata": {
        "colab": {
          "base_uri": "https://localhost:8080/"
        },
        "id": "ZMEK4QY9jwqJ",
        "outputId": "46e6e317-37b3-4dfd-a421-c5a99d48c90b"
      },
      "outputs": [
        {
          "metadata": {
            "tags": null
          },
          "name": "stdout",
          "output_type": "stream",
          "text": [
            "104.196.212.40\n",
            "\u001b[K\u001b[?25hnpx: installed 22 in 1.587s\n",
            "your url is: https://public-files-sink.loca.lt\n"
          ]
        }
      ],
      "source": [
        "!npx localtunnel --port 8501 & curl ipv4.icanhazip.com"
      ]
    }
  ],
  "metadata": {
    "colab": {
      "provenance": [],
      "include_colab_link": true
    },
    "kernelspec": {
      "display_name": "Python 3",
      "name": "python3"
    },
    "language_info": {
      "name": "python"
    }
  },
  "nbformat": 4,
  "nbformat_minor": 0
}